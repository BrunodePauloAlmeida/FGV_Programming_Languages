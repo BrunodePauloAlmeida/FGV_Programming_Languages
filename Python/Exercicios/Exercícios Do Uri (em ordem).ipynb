{
 "cells": [
  {
   "cell_type": "code",
   "execution_count": 26,
   "metadata": {},
   "outputs": [
    {
     "name": "stdout",
     "output_type": "stream",
     "text": [
      "12\n",
      "12\n",
      "X = 24\n"
     ]
    }
   ],
   "source": [
    "A=int(input())\n",
    "B=int(input())\n",
    "X=A+B\n",
    "print('X = %a'%X)"
   ]
  },
  {
   "cell_type": "markdown",
   "metadata": {},
   "source": [
    "\n"
   ]
  },
  {
   "cell_type": "code",
   "execution_count": 28,
   "metadata": {},
   "outputs": [
    {
     "name": "stdout",
     "output_type": "stream",
     "text": [
      "100.64\n",
      "A=31819.3103\n"
     ]
    }
   ],
   "source": [
    "r=float(input())\n",
    "Area=3.14159*r**2\n",
    "print('A={:.4F}'.format(Area))"
   ]
  },
  {
   "cell_type": "code",
   "execution_count": 29,
   "metadata": {},
   "outputs": [
    {
     "name": "stdout",
     "output_type": "stream",
     "text": [
      "30\n",
      "10\n",
      "SOMA = 40\n"
     ]
    }
   ],
   "source": [
    "A=int(input())\n",
    "B=int(input())\n",
    "SOMA=A+B\n",
    "print('SOMA = {}'.format(SOMA))"
   ]
  },
  {
   "cell_type": "code",
   "execution_count": 30,
   "metadata": {},
   "outputs": [
    {
     "name": "stdout",
     "output_type": "stream",
     "text": [
      "3\n",
      "9\n",
      "PROD = 27\n"
     ]
    }
   ],
   "source": [
    "A=int(input())\n",
    "B=int(input())\n",
    "PROD=A*B\n",
    "print('PROD = {}'.format(PROD))"
   ]
  },
  {
   "cell_type": "code",
   "execution_count": 33,
   "metadata": {},
   "outputs": [
    {
     "name": "stdout",
     "output_type": "stream",
     "text": [
      "0\n",
      "7.1\n",
      "MEDIA = 4.84091\n"
     ]
    }
   ],
   "source": [
    "A=float(input())\n",
    "B=float(input())\n",
    "media=(A*3.5+B*7.5)/11\n",
    "print('MEDIA = {:.5f}'.format(media))"
   ]
  },
  {
   "cell_type": "code",
   "execution_count": 34,
   "metadata": {},
   "outputs": [
    {
     "name": "stdout",
     "output_type": "stream",
     "text": [
      "10\n",
      "10\n",
      "5\n",
      "MEDIA = 7.5\n"
     ]
    }
   ],
   "source": [
    "A=float(input())\n",
    "B=float(input())\n",
    "C=float(input())\n",
    "media=(2*A+3*B+5*C)/10\n",
    "print('MEDIA = {:.1f}'.format(media))"
   ]
  },
  {
   "cell_type": "code",
   "execution_count": 35,
   "metadata": {},
   "outputs": [
    {
     "name": "stdout",
     "output_type": "stream",
     "text": [
      "5\n",
      "6\n",
      "-7\n",
      "8\n",
      "DIFERENCA = 86\n"
     ]
    }
   ],
   "source": [
    "a=int(input())\n",
    "b=int(input())\n",
    "c=int(input())\n",
    "d=int(input())\n",
    "x=a*b-(c*d)\n",
    "print('DIFERENCA = {}'.format(x))\n"
   ]
  },
  {
   "cell_type": "code",
   "execution_count": null,
   "metadata": {},
   "outputs": [],
   "source": [
    "n=int(input())\n",
    "h=int(input())\n",
    "valor=float(input())\n",
    "s=h*valor\n",
    "print('NUMBER = {}'.format(n))\n",
    "print('SALARY = U$ {:.2f}'.format(s))"
   ]
  },
  {
   "cell_type": "code",
   "execution_count": 44,
   "metadata": {},
   "outputs": [
    {
     "name": "stdout",
     "output_type": "stream",
     "text": [
      "Joao\n",
      "500\n",
      "1230.3\n",
      "TOTAL = R$ 684.54\n"
     ]
    }
   ],
   "source": [
    "nome=str(input())\n",
    "s=float(input())\n",
    "venda=float(input())\n",
    "print('TOTAL = R$ {:.2f}'.format(venda*0.15+s))"
   ]
  },
  {
   "cell_type": "code",
   "execution_count": 70,
   "metadata": {},
   "outputs": [
    {
     "name": "stdout",
     "output_type": "stream",
     "text": [
      "13 2 15.3\n",
      "161 4 5.2\n",
      "VALOR A PAGAR = R$ 51.40\n"
     ]
    }
   ],
   "source": [
    "a = input().split(\" \")\n",
    "b = input().split(\" \")\n",
    "print('VALOR A PAGAR: R$ {:.2f}'.format(int(a[1])*float(a[2])+int(b[1])*float(b[2])))"
   ]
  },
  {
   "cell_type": "code",
   "execution_count": 72,
   "metadata": {},
   "outputs": [
    {
     "name": "stdout",
     "output_type": "stream",
     "text": [
      "15\n",
      "VOLUME = 14137.155\n"
     ]
    }
   ],
   "source": [
    "r=float(input())\n",
    "print('VOLUME = {:.3f}'.format((4*3.14159*r**3)/3))"
   ]
  },
  {
   "cell_type": "code",
   "execution_count": 85,
   "metadata": {},
   "outputs": [
    {
     "name": "stdout",
     "output_type": "stream",
     "text": [
      "12.7 10.4 15.2\n",
      "TRIANGULO: 96.520\n",
      "CIRCULO: 725.833\n",
      "TRAPEZIO: 175.560\n",
      "QUADRADO: 108.160\n",
      "RETANGULO: 132.080\n"
     ]
    }
   ],
   "source": [
    "lista=input().split(\" \")\n",
    "a=float(lista[0])\n",
    "b=float(lista[1])\n",
    "c=float(lista[2])\n",
    "print('TRIANGULO: {:.3f}'.format(a*c/2))\n",
    "print('CIRCULO: {:.3f}'.format(3.14159*c**2))\n",
    "print('TRAPEZIO: {:.3f}'.format((a+b)*c/2))\n",
    "print('QUADRADO: {:.3f}'.format(b**2))\n",
    "print('RETANGULO: {:.3f}'.format(a*b))"
   ]
  },
  {
   "cell_type": "code",
   "execution_count": 89,
   "metadata": {},
   "outputs": [
    {
     "name": "stdout",
     "output_type": "stream",
     "text": [
      "20 9 214\n",
      "214 eh o maior\n"
     ]
    }
   ],
   "source": [
    "lista=input().split(\" \")\n",
    "a=float(lista[0])\n",
    "b=float(lista[1])\n",
    "c=float(lista[2])\n",
    "m1=(a+b+abs(a-b))/2\n",
    "m2=(m1+c+abs(m1-c))/2\n",
    "print('{} eh o maior'.format(int(m2)))"
   ]
  },
  {
   "cell_type": "code",
   "execution_count": 91,
   "metadata": {},
   "outputs": [
    {
     "name": "stdout",
     "output_type": "stream",
     "text": [
      "4554\n",
      "464.6\n",
      "9.802 km/l\n"
     ]
    }
   ],
   "source": [
    "a=float(input())\n",
    "b=float(input())\n",
    "print('{:.3f} km/l'.format(a/b))"
   ]
  },
  {
   "cell_type": "code",
   "execution_count": 96,
   "metadata": {},
   "outputs": [
    {
     "name": "stdout",
     "output_type": "stream",
     "text": [
      "-2.5 0.4\n",
      "12.1 7.3\n",
      "16.1484\n"
     ]
    }
   ],
   "source": [
    "p1=input().split(\" \")\n",
    "p2=input().split(\" \")\n",
    "D=((float(p1[0])-float(p2[0]))**2 + (float(p1[1])-float(p2[1]))**2)**(1/2)\n",
    "print('{:.4f}'.format(D))"
   ]
  },
  {
   "cell_type": "code",
   "execution_count": 98,
   "metadata": {},
   "outputs": [
    {
     "name": "stdout",
     "output_type": "stream",
     "text": [
      "110\n",
      "220 minutos\n"
     ]
    }
   ],
   "source": [
    "a=float(input())\n",
    "print('{:.0f} minutos'.format(2*a))"
   ]
  },
  {
   "cell_type": "code",
   "execution_count": 99,
   "metadata": {},
   "outputs": [
    {
     "name": "stdout",
     "output_type": "stream",
     "text": [
      "2\n",
      "92\n",
      "15.333\n"
     ]
    }
   ],
   "source": [
    "t=int(input())\n",
    "v=int(input())\n",
    "print('{:.3f}'.format(t*v/12))"
   ]
  },
  {
   "cell_type": "code",
   "execution_count": 119,
   "metadata": {},
   "outputs": [
    {
     "name": "stdout",
     "output_type": "stream",
     "text": [
      "145\n",
      "145\n",
      "1 nota(s) de R$ 100,00\n",
      "0 nota(s) de R$ 50,00\n",
      "2 nota(s) de R$ 20,00\n",
      "0 nota(s) de R$ 10,00\n",
      "1 nota(s) de R$ 5,00\n",
      "0 nota(s) de R$ 2,00\n",
      "0 nota(s) de R$ 1,00\n"
     ]
    }
   ],
   "source": [
    "n=int(input())\n",
    "lista=[100,50,20,10,5,2,1]\n",
    "lista2=[]\n",
    "a=n\n",
    "for x in lista:\n",
    "    if n>=x and a!=0:\n",
    "        lista2.append(a//x)\n",
    "        a=a-(a//x)*x\n",
    "    else:\n",
    "        lista2.append(0)\n",
    "print(n)\n",
    "print('{} nota(s) de R$ {},00'.format(lista2[0],lista[0]))\n",
    "print('{} nota(s) de R$ {},00'.format(lista2[1],lista[1]))\n",
    "print('{} nota(s) de R$ {},00'.format(lista2[2],lista[2]))\n",
    "print('{} nota(s) de R$ {},00'.format(lista2[3],lista[3]))\n",
    "print('{} nota(s) de R$ {},00'.format(lista2[4],lista[4]))\n",
    "print('{} nota(s) de R$ {},00'.format(lista2[5],lista[5]))\n",
    "print('{} nota(s) de R$ {},00'.format(lista2[6],lista[6]))\n",
    "        "
   ]
  },
  {
   "cell_type": "code",
   "execution_count": 123,
   "metadata": {},
   "outputs": [
    {
     "name": "stdout",
     "output_type": "stream",
     "text": [
      "500\n",
      "0:8:20\n"
     ]
    }
   ],
   "source": [
    "n=int(input())\n",
    "lista=[3600,60]\n",
    "lista2=[]\n",
    "a=n\n",
    "for x in lista:\n",
    "    if n>=x and a!=0:\n",
    "        lista2.append(a//x)\n",
    "        a=a-(a//x)*x\n",
    "    else:\n",
    "        lista2.append(0)\n",
    "print('{}:{}:{}'.format(lista2[0],lista2[1],a))"
   ]
  },
  {
   "cell_type": "code",
   "execution_count": 125,
   "metadata": {},
   "outputs": [
    {
     "name": "stdout",
     "output_type": "stream",
     "text": [
      "800\n",
      "2 ano(s)\n",
      "2 mes(es)\n",
      "10 dia(s)\n"
     ]
    }
   ],
   "source": [
    "n=int(input())\n",
    "lista=[365,30]\n",
    "lista2=[]\n",
    "a=n\n",
    "for x in lista:\n",
    "    if n>=x and a!=0:\n",
    "        lista2.append(a//x)\n",
    "        a=a-(a//x)*x\n",
    "    else:\n",
    "        lista2.append(0)\n",
    "print('{} ano(s)'.format(lista2[0]))\n",
    "print('{} mes(es)'.format(lista2[1]))\n",
    "print('{} dia(s)'.format(a))"
   ]
  },
  {
   "cell_type": "code",
   "execution_count": 169,
   "metadata": {
    "scrolled": true
   },
   "outputs": [
    {
     "name": "stdout",
     "output_type": "stream",
     "text": [
      "13.13\n",
      "NOTAS:\n",
      "0 nota(s) de R$ 100.00\n",
      "0 nota(s) de R$ 50.00\n",
      "0 nota(s) de R$ 20.00\n",
      "1 nota(s) de R$ 10.00\n",
      "0 nota(s) de R$ 5.00\n",
      "1 nota(s) de R$ 2.00\n",
      "MOEDAS:\n",
      "1 moeda(s) de R$ 1.00\n",
      "0 moeda(s) de R$ 0.50\n",
      "0 moeda(s) de R$ 0.25\n",
      "1 moeda(s) de R$ 0.10\n",
      "0 moeda(s) de R$ 0.05\n",
      "3 moeda(s) de R$ 0.01\n"
     ]
    }
   ],
   "source": [
    "n=float(input())*100\n",
    "lista=[i*100 for i in [100,50,20,10,5,2,1,0.50,0.25,0.10,0.05,0.01]]\n",
    "lista2=[]\n",
    "a=n\n",
    "for x in lista:\n",
    "    if n>=x and a!=0:\n",
    "        lista2.append(a//x)\n",
    "        a=a-(a//x)*x\n",
    "    else:\n",
    "        lista2.append(0)\n",
    "lista=[i/100 for i in lista]\n",
    "print('NOTAS:')\n",
    "print('{:.0f} nota(s) de R$ {:.2f}'.format(lista2[0],lista[0]))\n",
    "print('{:.0f} nota(s) de R$ {:.2f}'.format(lista2[1],lista[1]))\n",
    "print('{:.0f} nota(s) de R$ {:.2f}'.format(lista2[2],lista[2]))\n",
    "print('{:.0f} nota(s) de R$ {:.2f}'.format(lista2[3],lista[3]))\n",
    "print('{:.0f} nota(s) de R$ {:.2f}'.format(lista2[4],lista[4]))\n",
    "print('{:.0f} nota(s) de R$ {:.2f}'.format(lista2[5],lista[5]))\n",
    "print('MOEDAS:')\n",
    "print('{:.0f} moeda(s) de R$ {:.2f}'.format(lista2[6],lista[6]))\n",
    "print('{:.0f} moeda(s) de R$ {:.2f}'.format(lista2[7],lista[7]))\n",
    "print('{:.0f} moeda(s) de R$ {:.2f}'.format(lista2[8],lista[8]))\n",
    "print('{:.0f} moeda(s) de R$ {:.2f}'.format(lista2[9],lista[9]))\n",
    "print('{:.0f} moeda(s) de R$ {:.2f}'.format(lista2[10],lista[10]))\n",
    "print('{:.0f} moeda(s) de R$ {:.2f}'.format(lista2[11],lista[11]))"
   ]
  },
  {
   "cell_type": "code",
   "execution_count": 134,
   "metadata": {},
   "outputs": [
    {
     "name": "stdout",
     "output_type": "stream",
     "text": [
      "2 3 2 6\n",
      "Valores aceitos\n"
     ]
    }
   ],
   "source": [
    "n=input()\n",
    "lista=n.split(\" \")\n",
    "lista[0]=int(lista[0])\n",
    "lista[1]=int(lista[1])\n",
    "lista[2]=int(lista[2])\n",
    "lista[3]=int(lista[3])\n",
    "if lista[1]>lista[2] and lista[3]>lista[0] and (lista[2]+lista[3])>(lista[0]+lista[1]) and lista[2]>0 and lista[3]>0 and lista[0]%2==0:\n",
    "    print('Valores aceitos')\n",
    "else:\n",
    "    print('Valores nao aceitos')"
   ]
  },
  {
   "cell_type": "code",
   "execution_count": 170,
   "metadata": {},
   "outputs": [
    {
     "name": "stdout",
     "output_type": "stream",
     "text": [
      "10.0 20.1 5.1\n",
      "R1 = -0.29788\n",
      "R2 = -1.71212\n"
     ]
    }
   ],
   "source": [
    "n=input()\n",
    "lista=n.split(\" \")\n",
    "lista[0]=float(lista[0])\n",
    "lista[1]=float(lista[1])\n",
    "lista[2]=float(lista[2])\n",
    "a=lista[0]\n",
    "b=lista[1]\n",
    "c=lista[2]\n",
    "if b**2-(4*a*c)<0 or a==0:\n",
    "    print('Impossivel calcular')\n",
    "else:\n",
    "    R1=(-b+(b**2-(4*a*c))**(1/2))/(2*a)\n",
    "    R2=(-b-(b**2-(4*a*c))**(1/2))/(2*a)\n",
    "    print('R1 = {:.5F}'.format(R1))\n",
    "    print('R2 = {:.5F}'.format(R2))\n",
    "    "
   ]
  },
  {
   "cell_type": "code",
   "execution_count": 180,
   "metadata": {},
   "outputs": [
    {
     "name": "stdout",
     "output_type": "stream",
     "text": [
      "-2\n",
      "Fora de intervalo\n"
     ]
    }
   ],
   "source": [
    "n=float(input())\n",
    "lista1=[(0,25),(25,50),(50,75),(75,100)]\n",
    "    \n",
    "if n<0 or n>100:\n",
    "    print('Fora de intervalo')\n",
    "else:\n",
    "    if n==0:\n",
    "        print('Intervalo [0,25]')\n",
    "    else:\n",
    "        for x,y in lista1:\n",
    "            if n>x and n<=y:\n",
    "                if x==0 and y==25:\n",
    "                    print('Intervalo [0,25]')\n",
    "                else:\n",
    "                    print('Intervalo ({},{}]'.format(x,y))\n",
    "                "
   ]
  },
  {
   "cell_type": "code",
   "execution_count": 200,
   "metadata": {},
   "outputs": [
    {
     "name": "stdout",
     "output_type": "stream",
     "text": [
      "4 3\n",
      "Total: R$ 6.00\n"
     ]
    }
   ],
   "source": [
    "n=input().split()\n",
    "lista = [int(i) for i in n]\n",
    "consulta=[(1,4),(2,4.5),(3,5),(4,2),(5,1.5)]\n",
    "K=[(y*lista[1]) for x,y in consulta if x==lista[0]]\n",
    "print('Total: R$ {:.2f}'.format(K[0]))"
   ]
  },
  {
   "cell_type": "code",
   "execution_count": null,
   "metadata": {},
   "outputs": [],
   "source": []
  }
 ],
 "metadata": {
  "kernelspec": {
   "display_name": "Python 3",
   "language": "python",
   "name": "python3"
  },
  "language_info": {
   "codemirror_mode": {
    "name": "ipython",
    "version": 3
   },
   "file_extension": ".py",
   "mimetype": "text/x-python",
   "name": "python",
   "nbconvert_exporter": "python",
   "pygments_lexer": "ipython3",
   "version": "3.5.2"
  }
 },
 "nbformat": 4,
 "nbformat_minor": 2
}
