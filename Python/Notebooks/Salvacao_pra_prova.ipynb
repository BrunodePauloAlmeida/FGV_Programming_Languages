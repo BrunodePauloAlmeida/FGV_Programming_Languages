{
 "cells": [
  {
   "cell_type": "markdown",
   "metadata": {},
   "source": [
    "## DICIONARIO DE CODIGOS ##"
   ]
  },
  {
   "cell_type": "markdown",
   "metadata": {},
   "source": [
    "### Módulo String ###"
   ]
  },
  {
   "cell_type": "code",
   "execution_count": 2,
   "metadata": {},
   "outputs": [],
   "source": [
    "import string"
   ]
  },
  {
   "cell_type": "code",
   "execution_count": 16,
   "metadata": {},
   "outputs": [
    {
     "data": {
      "text/plain": [
       "'te1te22'"
      ]
     },
     "execution_count": 16,
     "metadata": {},
     "output_type": "execute_result"
    }
   ],
   "source": [
    "#conjunto de todas as letras maisculas e minusculas\n",
    "string.ascii_letters\n",
    "#conjunto de todas letras minusculas\n",
    "string.ascii_lowercase\n",
    "#conjunto de todas letras maisculas\n",
    "string.ascii_uppercase\n",
    "#conjunto de todos algarismos\n",
    "string.digits\n",
    "#conjunto de todas as pontuacoes\n",
    "string.punctuation  #obs: não contem algumas pontuacoes especificas\n",
    "traducao=str.maketrans('','',string.punctuation) #cria uma tabela de tradução, toda pontuação é traduzida em ''\n",
    "'teste.3,2!'.translate(traducao)  #efetua a traducao  "
   ]
  },
  {
   "cell_type": "markdown",
   "metadata": {},
   "source": [
    "### Modulo Numpy ###"
   ]
  },
  {
   "cell_type": "code",
   "execution_count": 2,
   "metadata": {},
   "outputs": [],
   "source": [
    "import numpy as np"
   ]
  },
  {
   "cell_type": "code",
   "execution_count": 8,
   "metadata": {},
   "outputs": [
    {
     "data": {
      "text/plain": [
       "array([0., 0., 0., 0., 0.])"
      ]
     },
     "execution_count": 8,
     "metadata": {},
     "output_type": "execute_result"
    }
   ],
   "source": [
    "np.arange(0,3,0.1) #cria um array com esse range, não inclui o limite superior, pode somar, elevar ao quadrado, fazer função\n",
    "np.sin(1) #funçao seno, dá pra fazer sin ou cos de uma lista toda\n",
    "np.cos(1) #funcao cosseno\n",
    "np.zeros((5,2)) #cria uma matriz com 5 linhas e 2 colunas só com 0\n",
    "np.zeros((5,2)).transpose() #faz a transposta da matriz\n",
    "matriz=np.zeros((5,5))\n",
    "matriz[:,1]  #pega todas as linhas da segunda coluna\n",
    "matriz[1,:] #pega todas as colunas da segunda linha"
   ]
  },
  {
   "cell_type": "markdown",
   "metadata": {},
   "source": [
    "### Módulo MatPlotLib ###"
   ]
  },
  {
   "cell_type": "code",
   "execution_count": 5,
   "metadata": {},
   "outputs": [],
   "source": [
    "import matplotlib\n",
    "import matplotlib.pyplot as plt"
   ]
  },
  {
   "cell_type": "code",
   "execution_count": 6,
   "metadata": {},
   "outputs": [
    {
     "data": {
      "image/png": "[encoded data removed]",
      "text/plain": [
       "<Figure size 432x288 with 1 Axes>"
      ]
     },
     "metadata": {},
     "output_type": "display_data"
    }
   ],
   "source": [
    "FIG, XY = plt.subplots()  \n",
    "#cria o gráfico sem nada, por padrão, tem o eixo x e o eixo y variando de 0 a 1\n",
    "#FIG é a figura em si, XY são as configurações dos eixos\n",
    "XY.set(xlabel='eixo x', ylabel='eixo y', title = 'grafico')   \n",
    "#xlabel é o nome que aparece no eixo x, \n",
    "#ylabel é o nome que aparece no eixo y\n",
    "#title é o titulo do grafico \n",
    "XY.grid() \n",
    "#grid coloca a malha atras do grafico\n",
    "XY.plot(1,1,'bo') \n",
    "#plota as coordenadas x e y, se ambos foram listas, mostra todas as combinações\n",
    "#'bo' é a configuração do ponto\n",
    "plt.axis([.95,1.05,0.95,1.05]) \n",
    "#define os limites da apresentação do gráfico\n",
    "plt.show() \n",
    "#mostra a figura (não entendi muito bem)"
   ]
  },
  {
   "cell_type": "markdown",
   "metadata": {},
   "source": [
    "### Dicas###"
   ]
  },
  {
   "cell_type": "code",
   "execution_count": null,
   "metadata": {},
   "outputs": [],
   "source": [
    "#Para verificar o estágio de uma função, coloque 'prints' no meio do código"
   ]
  }
 ],
 "metadata": {
  "kernelspec": {
   "display_name": "Python 3",
   "language": "python",
   "name": "python3"
  },
  "language_info": {
   "codemirror_mode": {
    "name": "ipython",
    "version": 3
   },
   "file_extension": ".py",
   "mimetype": "text/x-python",
   "name": "python",
   "nbconvert_exporter": "python",
   "pygments_lexer": "ipython3",
   "version": "3.5.2"
  }
 },
 "nbformat": 4,
 "nbformat_minor": 2
}
